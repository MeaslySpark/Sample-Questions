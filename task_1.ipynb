{
 "cells": [
  {
   "cell_type": "code",
   "execution_count": 7,
   "metadata": {},
   "outputs": [],
   "source": [
    "import numpy as np\n",
    "from scipy.linalg import norm\n",
    "import re"
   ]
  },
  {
   "cell_type": "code",
   "execution_count": 8,
   "metadata": {},
   "outputs": [],
   "source": [
    "H_matrix=1/np.sqrt(2)*np.array([[1, 1],\n",
    "                                [1,-1]])\n",
    "\n",
    "CNOT_matrix=np.array([[1,0,0,0],\n",
    "                      [0,1,0,0],\n",
    "                      [0,0,0,1],\n",
    "                      [0,0,1,0]])\n",
    "\n",
    "CNOT_tensor=np.reshape(CNOT_matrix, (2,2,2,2))\n"
   ]
  },
  {
   "cell_type": "code",
   "execution_count": 15,
   "metadata": {},
   "outputs": [],
   "source": [
    "class Reg: \n",
    "    def __init__(self,n):\n",
    "        self.n=n\n",
    "        self.psi=np.zeros((2,)*n) \n",
    "        self.psi[(0,)*n]=1\n",
    "        \n",
    "def H(i,reg): \n",
    "    reg.psi=np.tensordot(H_matrix,reg.psi,(1,i)) \n",
    "    reg.psi=np.moveaxis(reg.psi,0,i)\n",
    "\n",
    "def CNOT(control, target, reg):\n",
    "    reg.psi=np.tensordot(CNOT_tensor, reg.psi, ((2,3),(control, target))) \n",
    "    reg.psi=np.moveaxis(reg.psi,(0,1),(control,target))   \n"
   ]
  },
  {
   "cell_type": "code",
   "execution_count": 16,
   "metadata": {},
   "outputs": [],
   "source": [
    "def extract_gate_instructions(file_path):\n",
    "    # Read the text file\n",
    "    with open(file_path, 'r') as file:\n",
    "        data = file.read()\n",
    "\n",
    "    # Extract number of qubits\n",
    "    num_qubits = int(re.search(r'qubits (\\d+)', data).group(1))\n",
    "\n",
    "    # Extract gate instructions\n",
    "    gate_instructions = []\n",
    "    matches = re.findall(r'(\\w+)\\s+(\\d+),?\\s?(\\d*)', data)\n",
    "    for match in matches:\n",
    "        gate = match[0]\n",
    "        qubits = [int(q) for q in match[1:] if q]\n",
    "        gate_instructions.append((gate, qubits))\n",
    "\n",
    "    return num_qubits, gate_instructions[1:]"
   ]
  },
  {
   "cell_type": "code",
   "execution_count": 28,
   "metadata": {},
   "outputs": [],
   "source": [
    "def execute_gate_instructions(file_path):\n",
    "    # Extract gate instructions\n",
    "    num_qubits, gate_instructions = extract_gate_instructions(file_path)\n",
    "\n",
    "    # Initialize quantum register\n",
    "    reg = Reg(num_qubits)\n",
    "\n",
    "    # Execute gate instructions\n",
    "    for gate, qubits in gate_instructions:\n",
    "        if gate == 'h':\n",
    "            H(qubits[0], reg)\n",
    "        elif gate == 'cx':\n",
    "            control, target = qubits\n",
    "            CNOT(control, target, reg)\n",
    "           \n",
    "\n",
    "    # print(\"Final state vector:\")\n",
    "    # print(reg.psi)\n",
    "    return reg.psi.flatten()"
   ]
  },
  {
   "cell_type": "code",
   "execution_count": 29,
   "metadata": {},
   "outputs": [
    {
     "data": {
      "text/plain": [
       "array([0.70710678, 0.        , 0.        , 0.        , 0.        ,\n",
       "       0.        , 0.        , 0.70710678])"
      ]
     },
     "execution_count": 29,
     "metadata": {},
     "output_type": "execute_result"
    }
   ],
   "source": [
    "execute_gate_instructions('input.txt')"
   ]
  }
 ],
 "metadata": {
  "kernelspec": {
   "display_name": "quantum",
   "language": "python",
   "name": "python3"
  },
  "language_info": {
   "codemirror_mode": {
    "name": "ipython",
    "version": 3
   },
   "file_extension": ".py",
   "mimetype": "text/x-python",
   "name": "python",
   "nbconvert_exporter": "python",
   "pygments_lexer": "ipython3",
   "version": "3.8.10"
  }
 },
 "nbformat": 4,
 "nbformat_minor": 2
}
