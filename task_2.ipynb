{
 "cells": [
  {
   "cell_type": "code",
   "execution_count": 1,
   "metadata": {},
   "outputs": [],
   "source": [
    "import numpy as np\n",
    "from scipy.linalg import norm\n",
    "import re"
   ]
  },
  {
   "cell_type": "code",
   "execution_count": 2,
   "metadata": {},
   "outputs": [],
   "source": [
    "H_matrix=1/np.sqrt(2)*np.array([[1, 1],\n",
    "                                [1,-1]])\n",
    "\n",
    "CNOT_matrix=np.array([[1,0,0,0],\n",
    "                      [0,1,0,0],\n",
    "                      [0,0,0,1],\n",
    "                      [0,0,1,0]])\n",
    "\n",
    "CNOT_tensor=np.reshape(CNOT_matrix, (2,2,2,2))"
   ]
  },
  {
   "cell_type": "code",
   "execution_count": 14,
   "metadata": {},
   "outputs": [],
   "source": [
    "class Reg: \n",
    "    def __init__(self,n):\n",
    "        self.n=n\n",
    "        self.psi=np.zeros((2,)*n) \n",
    "        self.psi[(0,)*n]=1\n",
    "        \n",
    "def H(i,reg): \n",
    "    reg.psi=np.tensordot(H_matrix,reg.psi,(1,i)) \n",
    "    reg.psi=np.moveaxis(reg.psi,0,i)\n",
    "\n",
    "def CNOT(control, target, reg):\n",
    "    reg.psi=np.tensordot(CNOT_tensor, reg.psi, ((2,3),(control, target))) \n",
    "    reg.psi=np.moveaxis(reg.psi,(0,1),(control,target))   \n",
    "\n",
    "def depolarize_channel(i,reg, nu): \n",
    "    projectors=[ (1-nu)*np.array([[1,0],[0,1]]), nu * np.array([[0.5,0.5],[0.5,0.5]]) ] \n",
    "    \n",
    "    def project(i,j,reg): \n",
    "        projected=np.tensordot(projectors[j],reg.psi,(1,i))\n",
    "        return np.moveaxis(projected,0,i)\n",
    "    \n",
    "    projected=project(i,0,reg) \n",
    "    norm_projected=norm(projected.flatten()) \n",
    "    if np.random.random()<norm_projected**2: \n",
    "        reg.psi=projected/norm_projected\n",
    "        return 0\n",
    "    else:\n",
    "        projected=project(i,1,reg)\n",
    "        reg.psi=projected/norm(projected)\n",
    "        return 1\n",
    "    "
   ]
  },
  {
   "cell_type": "code",
   "execution_count": 15,
   "metadata": {},
   "outputs": [],
   "source": [
    "def extract_gate_instructions(file_path):\n",
    "    # Read the text file\n",
    "    with open(file_path, 'r') as file:\n",
    "        data = file.read()\n",
    "\n",
    "    # Extract number of qubits\n",
    "    num_qubits = int(re.search(r'qubits (\\d+)', data).group(1))\n",
    "\n",
    "    # Extract gate instructions\n",
    "    gate_instructions = []\n",
    "    matches = re.findall(r'(\\w+)\\s+(\\d+),?\\s?(\\d*)', data)\n",
    "    for match in matches:\n",
    "        gate = match[0]\n",
    "        qubits = [int(q) for q in match[1:] if q]\n",
    "        gate_instructions.append((gate, qubits))\n",
    "\n",
    "    return num_qubits, gate_instructions[1:]"
   ]
  },
  {
   "cell_type": "code",
   "execution_count": 28,
   "metadata": {},
   "outputs": [],
   "source": [
    "def execute_gate_instructions(file_path,nu):\n",
    "\n",
    "    num_qubits, gate_instructions = extract_gate_instructions(file_path)\n",
    "\n",
    " \n",
    "    reg = Reg(num_qubits)\n",
    "\n",
    "    for gate, qubits in gate_instructions:\n",
    "        if gate == 'h':\n",
    "            H(qubits[0], reg)\n",
    "            for i in range(num_qubits):\n",
    "                c = depolarize_channel(i,reg, nu)\n",
    "                print(c)\n",
    "        elif gate == 'cx':\n",
    "            control, target = qubits\n",
    "            CNOT(control, target, reg)\n",
    "            for i in range(num_qubits):\n",
    "                c = depolarize_channel(i,reg, nu)\n",
    "                print(c)\n",
    "\n",
    "    return reg.psi.flatten()"
   ]
  },
  {
   "cell_type": "code",
   "execution_count": 29,
   "metadata": {},
   "outputs": [
    {
     "name": "stdout",
     "output_type": "stream",
     "text": [
      "0\n",
      "1\n",
      "1\n",
      "0\n",
      "0\n",
      "0\n",
      "0\n",
      "0\n",
      "0\n"
     ]
    },
    {
     "data": {
      "text/plain": [
       "array([0.35355339, 0.35355339, 0.35355339, 0.35355339, 0.35355339,\n",
       "       0.35355339, 0.35355339, 0.35355339])"
      ]
     },
     "execution_count": 29,
     "metadata": {},
     "output_type": "execute_result"
    }
   ],
   "source": [
    "execute_gate_instructions('input.txt', nu = 0.1)"
   ]
  }
 ],
 "metadata": {
  "kernelspec": {
   "display_name": "quantum",
   "language": "python",
   "name": "python3"
  },
  "language_info": {
   "codemirror_mode": {
    "name": "ipython",
    "version": 3
   },
   "file_extension": ".py",
   "mimetype": "text/x-python",
   "name": "python",
   "nbconvert_exporter": "python",
   "pygments_lexer": "ipython3",
   "version": "3.8.10"
  }
 },
 "nbformat": 4,
 "nbformat_minor": 2
}
